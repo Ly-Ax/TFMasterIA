{
 "cells": [
  {
   "cell_type": "markdown",
   "metadata": {},
   "source": [
    "# FastAPI: XGBoost"
   ]
  },
  {
   "cell_type": "code",
   "execution_count": 1,
   "metadata": {},
   "outputs": [],
   "source": [
    "import httpx\n",
    "# run src/xgboost_model.py"
   ]
  },
  {
   "cell_type": "code",
   "execution_count": 2,
   "metadata": {},
   "outputs": [],
   "source": [
    "url = \"http://127.0.0.1:8000/predict\"\n",
    "\n",
    "data = {\"LoanNr_ChkDgt\": 9570974007, \"Name\": \"NEW HORIZONS SOLUTIONS INC\", \"City\": \"BRENTWOOD\", \"State\": \"TN\", \"Zip\": 37027, \"Bank\": \"BBCN BANK\", \"BankState\": \"CA\", \"NAICS\": 541612, \"ApprovalDate\": \"4-Jan-06\", \"ApprovalFY\": \"2006\", \"Term\": 61, \"NoEmp\": 1, \"NewExist\": 1.0, \"CreateJob\": 2, \"RetainedJob\": 1, \"FranchiseCode\": 1, \"UrbanRural\": 1, \"RevLineCr\": \"0\", \"LowDoc\": \"N\", \"ChgOffDate\": \"9-Mar-08\", \"DisbursementDate\": \"31-Jan-06\", \"DisbursementGross\": \"$25,000.00 \", \"BalanceGross\": \"$0.00 \", \"ChgOffPrinGr\": \"$23,648.00 \", \"GrAppv\": \"$25,000.00 \", \"SBA_Appv\": \"$21,250.00 \"} # 1\n",
    "# data = {\"LoanNr_ChkDgt\": 8002113008, \"Name\": \"BIRMINGHAMS FLOWERS & GREENHOU\", \"City\": \"STURGEON BAY\", \"State\": \"WI\", \"Zip\": 54235, \"Bank\": \"BAYLAKE BANK\", \"BankState\": \"WI\", \"NAICS\": 453110, \"ApprovalDate\": \"23-Jan-95\", \"ApprovalFY\": \"1995\", \"Term\": 180, \"NoEmp\": 5, \"NewExist\": 1.0, \"CreateJob\": 0, \"RetainedJob\": 0, \"FranchiseCode\": 1, \"UrbanRural\": 0, \"RevLineCr\": \"N\", \"LowDoc\": \"N\", \"ChgOffDate\": \"nan\", \"DisbursementDate\": \"30-Apr-95\", \"DisbursementGross\": \"$130,000.00 \", \"BalanceGross\": \"$0.00 \", \"ChgOffPrinGr\": \"$0.00 \", \"GrAppv\": \"$130,000.00 \", \"SBA_Appv\": \"$110,500.00 \"} # 0"
   ]
  },
  {
   "cell_type": "code",
   "execution_count": 3,
   "metadata": {},
   "outputs": [
    {
     "name": "stdout",
     "output_type": "stream",
     "text": [
      "{'Prediction': '1'}\n"
     ]
    }
   ],
   "source": [
    "response = httpx.post(url, json=data)\n",
    "\n",
    "if response.status_code == 200:\n",
    "    result = response.json()\n",
    "    print(result)\n",
    "else:\n",
    "    print(f\"Request error: {response.status_code}, {response.text}\")"
   ]
  }
 ],
 "metadata": {
  "kernelspec": {
   "display_name": "venv",
   "language": "python",
   "name": "python3"
  },
  "language_info": {
   "codemirror_mode": {
    "name": "ipython",
    "version": 3
   },
   "file_extension": ".py",
   "mimetype": "text/x-python",
   "name": "python",
   "nbconvert_exporter": "python",
   "pygments_lexer": "ipython3",
   "version": "3.11.5"
  }
 },
 "nbformat": 4,
 "nbformat_minor": 2
}
