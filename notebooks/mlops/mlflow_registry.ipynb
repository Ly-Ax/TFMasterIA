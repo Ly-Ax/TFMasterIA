{
 "cells": [
  {
   "cell_type": "markdown",
   "metadata": {},
   "source": [
    "# MLflow: Random Forest"
   ]
  },
  {
   "cell_type": "code",
   "execution_count": 1,
   "metadata": {},
   "outputs": [],
   "source": [
    "import pandas as pd\n",
    "import numpy as np\n",
    "import mlflow\n",
    "\n",
    "from sklearn.model_selection import train_test_split\n",
    "from sklearn.ensemble import RandomForestClassifier\n",
    "from sklearn.metrics import accuracy_score, precision_score, recall_score, f1_score"
   ]
  },
  {
   "cell_type": "markdown",
   "metadata": {},
   "source": [
    "## Load Data"
   ]
  },
  {
   "cell_type": "code",
   "execution_count": 2,
   "metadata": {},
   "outputs": [],
   "source": [
    "data_clean = '../../data/clean/data_clean.csv'\n",
    "\n",
    "df = pd.read_csv(data_clean, low_memory=False)\n",
    "df = df.sample(frac=0.10, random_state=44)\n",
    "\n",
    "df_train, df_test = train_test_split(df, \n",
    "                                     train_size=0.7, \n",
    "                                     random_state=44)"
   ]
  },
  {
   "cell_type": "code",
   "execution_count": 3,
   "metadata": {},
   "outputs": [
    {
     "name": "stdout",
     "output_type": "stream",
     "text": [
      "Train: (62622, 18), (62622,)\n",
      "Test:  (26839, 18), (26839,)\n"
     ]
    }
   ],
   "source": [
    "X_train = df_train.drop(['Default'], axis=1)\n",
    "y_train = df_train['Default']\n",
    "\n",
    "X_test = df_test.drop(['Default'], axis=1)\n",
    "y_test = df_test['Default']\n",
    "\n",
    "print(f'Train: {X_train.shape}, {y_train.shape}')\n",
    "print(f'Test:  {X_test.shape}, {y_test.shape}')"
   ]
  },
  {
   "cell_type": "markdown",
   "metadata": {},
   "source": [
    "## Model Training"
   ]
  },
  {
   "cell_type": "code",
   "execution_count": 4,
   "metadata": {},
   "outputs": [],
   "source": [
    "criter = 'entropy' \n",
    "depth = 20\n",
    "rand_rfc = 44"
   ]
  },
  {
   "cell_type": "code",
   "execution_count": 5,
   "metadata": {},
   "outputs": [],
   "source": [
    "rfc_model = RandomForestClassifier(criterion=criter,\n",
    "                                   max_depth=depth,\n",
    "                                   random_state=rand_rfc)\n",
    "\n",
    "rfc_model.fit(X_train, y_train)\n",
    "y_pred = rfc_model.predict(X_test)"
   ]
  },
  {
   "cell_type": "code",
   "execution_count": 6,
   "metadata": {},
   "outputs": [
    {
     "name": "stdout",
     "output_type": "stream",
     "text": [
      "Accuracy:  0.9409\n",
      "Precision: 0.917\n",
      "Recall:    0.8744\n",
      "F1-score:  0.8937\n"
     ]
    }
   ],
   "source": [
    "acc = round(accuracy_score(y_test, y_pred),4)\n",
    "pre = round(precision_score(y_test, y_pred, average='macro'),4)\n",
    "rec = round(recall_score(y_test, y_pred, average='macro'),4)\n",
    "f1s = round(f1_score(y_test, y_pred, average='macro'),4)\n",
    "\n",
    "print(f'Accuracy:  {acc}')\n",
    "print(f'Precision: {pre}')\n",
    "print(f'Recall:    {rec}')\n",
    "print(f'F1-score:  {f1s}')"
   ]
  },
  {
   "cell_type": "markdown",
   "metadata": {},
   "source": [
    "## MLflow Registry"
   ]
  },
  {
   "cell_type": "code",
   "execution_count": 7,
   "metadata": {},
   "outputs": [
    {
     "name": "stderr",
     "output_type": "stream",
     "text": [
      "Registered model 'RFC-Model' already exists. Creating a new version of this model...\n",
      "Created version '4' of model 'RFC-Model'.\n"
     ]
    }
   ],
   "source": [
    "with mlflow.start_run():\n",
    "    mlflow.log_param('criterion', criter)\n",
    "    mlflow.log_param('max_depth', depth)\n",
    "    mlflow.log_param('random_state', rand_rfc)\n",
    "\n",
    "    mlflow.log_metric('accuracy', acc)\n",
    "    mlflow.log_metric('precision', pre)\n",
    "    mlflow.log_metric('recall', rec)\n",
    "    mlflow.log_metric('f1-score', f1s)\n",
    "\n",
    "    mlflow.sklearn.log_model(rfc_model, 'rfc-model', \n",
    "                             registered_model_name=\"RFC-Model\")"
   ]
  },
  {
   "cell_type": "code",
   "execution_count": 8,
   "metadata": {},
   "outputs": [],
   "source": [
    "# localhost:5000\n",
    "# !mlflow ui \n",
    "\n",
    "mlflow.end_run()"
   ]
  },
  {
   "cell_type": "markdown",
   "metadata": {},
   "source": [
    "## Load Model"
   ]
  },
  {
   "cell_type": "code",
   "execution_count": 9,
   "metadata": {},
   "outputs": [],
   "source": [
    "loaded_model = mlflow.sklearn.load_model('runs:/73d3cb660e044b7eb2a4c560ffd1106f/rfc-model')\n",
    "\n",
    "y_new = loaded_model.predict(X_test)"
   ]
  },
  {
   "cell_type": "code",
   "execution_count": 10,
   "metadata": {},
   "outputs": [
    {
     "name": "stdout",
     "output_type": "stream",
     "text": [
      "Accuracy:  0.9416\n",
      "Precision: 0.9174\n",
      "Recall:    0.8767\n",
      "F1-score:  0.8952\n"
     ]
    }
   ],
   "source": [
    "acc = round(accuracy_score(y_test, y_new),4)\n",
    "pre = round(precision_score(y_test, y_new, average='macro'),4)\n",
    "rec = round(recall_score(y_test, y_new, average='macro'),4)\n",
    "f1s = round(f1_score(y_test, y_new, average='macro'),4)\n",
    "\n",
    "print(f'Accuracy:  {acc}')\n",
    "print(f'Precision: {pre}')\n",
    "print(f'Recall:    {rec}')\n",
    "print(f'F1-score:  {f1s}')"
   ]
  }
 ],
 "metadata": {
  "kernelspec": {
   "display_name": "venv",
   "language": "python",
   "name": "python3"
  },
  "language_info": {
   "codemirror_mode": {
    "name": "ipython",
    "version": 3
   },
   "file_extension": ".py",
   "mimetype": "text/x-python",
   "name": "python",
   "nbconvert_exporter": "python",
   "pygments_lexer": "ipython3",
   "version": "3.11.5"
  }
 },
 "nbformat": 4,
 "nbformat_minor": 2
}
